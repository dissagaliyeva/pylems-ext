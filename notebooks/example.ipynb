{
 "cells": [
  {
   "cell_type": "code",
   "execution_count": 1,
   "metadata": {
    "collapsed": true
   },
   "outputs": [
    {
     "data": {
      "text/plain": "<xml.dom.minidom.Document at 0x1c2ae32b9a0>"
     },
     "execution_count": 1,
     "metadata": {},
     "output_type": "execute_result"
    }
   ],
   "source": [
    "from xml.dom import minidom\n",
    "\n",
    "file = minidom.parse('../examples/default_param.xml')\n",
    "file"
   ]
  },
  {
   "cell_type": "code",
   "execution_count": 4,
   "outputs": [
    {
     "data": {
      "text/plain": "['ATTRIBUTE_NODE',\n 'CDATA_SECTION_NODE',\n 'COMMENT_NODE',\n 'DOCUMENT_FRAGMENT_NODE',\n 'DOCUMENT_NODE',\n 'DOCUMENT_TYPE_NODE',\n 'ELEMENT_NODE',\n 'ENTITY_NODE',\n 'ENTITY_REFERENCE_NODE',\n 'NOTATION_NODE',\n 'PROCESSING_INSTRUCTION_NODE',\n 'TEXT_NODE',\n '__bool__',\n '__class__',\n '__delattr__',\n '__dict__',\n '__dir__',\n '__doc__',\n '__enter__',\n '__eq__',\n '__exit__',\n '__format__',\n '__ge__',\n '__getattribute__',\n '__gt__',\n '__hash__',\n '__init__',\n '__init_subclass__',\n '__le__',\n '__lt__',\n '__module__',\n '__ne__',\n '__new__',\n '__reduce__',\n '__reduce_ex__',\n '__repr__',\n '__setattr__',\n '__sizeof__',\n '__slots__',\n '__str__',\n '__subclasshook__',\n '__weakref__',\n '_call_user_data_handler',\n '_child_node_types',\n '_create_entity',\n '_create_notation',\n '_elem_info',\n '_get_actualEncoding',\n '_get_async',\n '_get_childNodes',\n '_get_doctype',\n '_get_documentElement',\n '_get_documentURI',\n '_get_elem_info',\n '_get_encoding',\n '_get_errorHandler',\n '_get_firstChild',\n '_get_lastChild',\n '_get_localName',\n '_get_standalone',\n '_get_strictErrorChecking',\n '_get_version',\n '_id_cache',\n '_id_search_stack',\n '_magic_id_count',\n '_set_async',\n 'abort',\n 'actualEncoding',\n 'appendChild',\n 'async_',\n 'attributes',\n 'childNodes',\n 'cloneNode',\n 'createAttribute',\n 'createAttributeNS',\n 'createCDATASection',\n 'createComment',\n 'createDocumentFragment',\n 'createElement',\n 'createElementNS',\n 'createProcessingInstruction',\n 'createTextNode',\n 'doctype',\n 'documentElement',\n 'documentURI',\n 'encoding',\n 'errorHandler',\n 'firstChild',\n 'getElementById',\n 'getElementsByTagName',\n 'getElementsByTagNameNS',\n 'getInterface',\n 'getUserData',\n 'hasChildNodes',\n 'implementation',\n 'importNode',\n 'insertBefore',\n 'isSameNode',\n 'isSupported',\n 'lastChild',\n 'load',\n 'loadXML',\n 'localName',\n 'namespaceURI',\n 'nextSibling',\n 'nodeName',\n 'nodeType',\n 'nodeValue',\n 'normalize',\n 'ownerDocument',\n 'parentNode',\n 'prefix',\n 'previousSibling',\n 'removeChild',\n 'renameNode',\n 'replaceChild',\n 'saveXML',\n 'setUserData',\n 'standalone',\n 'strictErrorChecking',\n 'toprettyxml',\n 'toxml',\n 'unlink',\n 'version',\n 'writexml']"
     },
     "execution_count": 4,
     "metadata": {},
     "output_type": "execute_result"
    }
   ],
   "source": [
    "dir(file)"
   ],
   "metadata": {
    "collapsed": false,
    "pycharm": {
     "name": "#%%\n"
    }
   }
  },
  {
   "cell_type": "code",
   "execution_count": 9,
   "outputs": [
    {
     "data": {
      "text/plain": "'<?xml version=\"1.0\" ?><Lems xmlns=\"http://www.neuroml.org/lems/0.7.6\" xmlns:xsi=\"http://www.w3.org/2001/XMLSchema-instance\" xsi:schemaLocation=\"http://www.neuroml.org/lems/0.7.6 https://raw.githubusercontent.com/LEMS/LEMS/development/Schemas/LEMS/LEMS_v0.7.6.xsd\">\\n  <Component id=\"default\" type=\"SJHM3D\" r=\"0.006\" a=\"1.0\" b=\"3.0\" c=\"1.0\" d=\"5.0\" s=\"1.0\" xo=\"-1.6\" K11=\"0.5\" K12=\"0.1\" K21=\"0.15\" sigma=\"0.3\" mu=\"3.3\" x_1=\"-1.6\" A_ik=\"None\" B_ik=\"None\" C_ik=\"None\" a_i=\"None\" b_i=\"None\" c_i=\"None\" d_i=\"None\" e_i=\"None\" f_i=\"None\" h_i=\"None\" p_i=\"None\" IE_i=\"None\" II_i=\"None\" m_i=\"None\" n_i=\"None\" variables_of_interest=\"[\\'xi\\', \\'eta\\', \\'tau\\']\" state_variable_range=\"{\\'x\\': [-4.0, 4.0], \\'y\\': [-60.0, 20.0], \\'z\\': [-2.0, 18.0], \\'eta\\': [-25.0, 20.0], \\'alpha\\': [-4.0, 4.0], \\'beta\\': [-20.0, 20.0], \\'gamma\\': [2.0, 10.0]}\"/>\\n</Lems>'"
     },
     "execution_count": 9,
     "metadata": {},
     "output_type": "execute_result"
    }
   ],
   "source": [
    "file.toxml()"
   ],
   "metadata": {
    "collapsed": false,
    "pycharm": {
     "name": "#%%\n"
    }
   }
  },
  {
   "cell_type": "code",
   "execution_count": null,
   "outputs": [],
   "source": [],
   "metadata": {
    "collapsed": false,
    "pycharm": {
     "name": "#%%\n"
    }
   }
  }
 ],
 "metadata": {
  "kernelspec": {
   "display_name": "Python 3",
   "language": "python",
   "name": "python3"
  },
  "language_info": {
   "codemirror_mode": {
    "name": "ipython",
    "version": 2
   },
   "file_extension": ".py",
   "mimetype": "text/x-python",
   "name": "python",
   "nbconvert_exporter": "python",
   "pygments_lexer": "ipython2",
   "version": "2.7.6"
  }
 },
 "nbformat": 4,
 "nbformat_minor": 0
}