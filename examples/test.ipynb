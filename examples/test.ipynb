{
 "cells": [
  {
   "cell_type": "code",
   "execution_count": 29,
   "metadata": {
    "collapsed": true
   },
   "outputs": [],
   "source": [
    "import lems.api as lems\n",
    "\n",
    "model = lems.Model()"
   ]
  },
  {
   "cell_type": "code",
   "execution_count": 30,
   "outputs": [],
   "source": [
    "model.import_from_file('../src/convert/templates/hindmarshRose.xml')"
   ],
   "metadata": {
    "collapsed": false,
    "pycharm": {
     "name": "#%%\n"
    }
   }
  },
  {
   "cell_type": "code",
   "execution_count": 31,
   "outputs": [
    {
     "ename": "KeyboardInterrupt",
     "evalue": "",
     "output_type": "error",
     "traceback": [
      "\u001B[1;31m---------------------------------------------------------------------------\u001B[0m",
      "\u001B[1;31mValueError\u001B[0m                                Traceback (most recent call last)",
      "File \u001B[1;32m~\\miniconda3\\lib\\site-packages\\lems\\model\\model.py:1004\u001B[0m, in \u001B[0;36mModel.get_numeric_value\u001B[1;34m(self, value_str, dimension)\u001B[0m\n\u001B[0;32m   1003\u001B[0m part \u001B[38;5;241m=\u001B[39m value_str[\u001B[38;5;241m0\u001B[39m:i]\n\u001B[1;32m-> 1004\u001B[0m nn \u001B[38;5;241m=\u001B[39m \u001B[38;5;28;43mfloat\u001B[39;49m\u001B[43m(\u001B[49m\u001B[43mpart\u001B[49m\u001B[43m)\u001B[49m\n\u001B[0;32m   1005\u001B[0m n \u001B[38;5;241m=\u001B[39m nn\n",
      "\u001B[1;31mValueError\u001B[0m: could not convert string to float: ''",
      "\nDuring handling of the above exception, another exception occurred:\n",
      "\u001B[1;31mKeyboardInterrupt\u001B[0m                         Traceback (most recent call last)",
      "Input \u001B[1;32mIn [31]\u001B[0m, in \u001B[0;36m<cell line: 1>\u001B[1;34m()\u001B[0m\n\u001B[1;32m----> 1\u001B[0m \u001B[43mmodel\u001B[49m\u001B[38;5;241;43m.\u001B[39;49m\u001B[43mresolve\u001B[49m\u001B[43m(\u001B[49m\u001B[43m)\u001B[49m\n",
      "File \u001B[1;32m~\\miniconda3\\lib\\site-packages\\lems\\model\\model.py:401\u001B[0m, in \u001B[0;36mModel.resolve\u001B[1;34m(self)\u001B[0m\n\u001B[0;32m    399\u001B[0m \u001B[38;5;28;01mfor\u001B[39;00m c \u001B[38;5;129;01min\u001B[39;00m ct\u001B[38;5;241m.\u001B[39mconstants:\n\u001B[0;32m    400\u001B[0m     c2 \u001B[38;5;241m=\u001B[39m c\u001B[38;5;241m.\u001B[39mcopy()\n\u001B[1;32m--> 401\u001B[0m     c2\u001B[38;5;241m.\u001B[39mnumeric_value \u001B[38;5;241m=\u001B[39m \u001B[43mmodel\u001B[49m\u001B[38;5;241;43m.\u001B[39;49m\u001B[43mget_numeric_value\u001B[49m\u001B[43m(\u001B[49m\u001B[43mc2\u001B[49m\u001B[38;5;241;43m.\u001B[39;49m\u001B[43mvalue\u001B[49m\u001B[43m,\u001B[49m\u001B[43m \u001B[49m\u001B[43mc2\u001B[49m\u001B[38;5;241;43m.\u001B[39;49m\u001B[43mdimension\u001B[49m\u001B[43m)\u001B[49m\n\u001B[0;32m    402\u001B[0m     model\u001B[38;5;241m.\u001B[39madd(c2)\n\u001B[0;32m    404\u001B[0m \u001B[38;5;28mself\u001B[39m\u001B[38;5;241m.\u001B[39mresolved_model \u001B[38;5;241m=\u001B[39m model\n",
      "File \u001B[1;32m~\\miniconda3\\lib\\site-packages\\lems\\model\\model.py:1007\u001B[0m, in \u001B[0;36mModel.get_numeric_value\u001B[1;34m(self, value_str, dimension)\u001B[0m\n\u001B[0;32m   1005\u001B[0m         n \u001B[38;5;241m=\u001B[39m nn\n\u001B[0;32m   1006\u001B[0m         s \u001B[38;5;241m=\u001B[39m value_str[i:]\n\u001B[1;32m-> 1007\u001B[0m     \u001B[38;5;28;01mexcept\u001B[39;00m \u001B[38;5;167;43;01mValueError\u001B[39;49;00m:\n\u001B[0;32m   1008\u001B[0m         i \u001B[38;5;241m=\u001B[39m i \u001B[38;5;241m-\u001B[39m \u001B[38;5;241m1\u001B[39m\n\u001B[0;32m   1010\u001B[0m number \u001B[38;5;241m=\u001B[39m n\n",
      "\u001B[1;31mKeyboardInterrupt\u001B[0m: "
     ]
    }
   ],
   "source": [
    "model.resolve()"
   ],
   "metadata": {
    "collapsed": false,
    "pycharm": {
     "name": "#%%\n"
    }
   }
  },
  {
   "cell_type": "code",
   "execution_count": 36,
   "outputs": [],
   "source": [
    "import xml.etree.ElementTree as ET\n",
    "\n",
    "tree = ET.parse('../src/convert/templates/hindmarshRose.xml')"
   ],
   "metadata": {
    "collapsed": false,
    "pycharm": {
     "name": "#%%\n"
    }
   }
  },
  {
   "cell_type": "code",
   "execution_count": 50,
   "outputs": [
    {
     "name": "stdout",
     "output_type": "stream",
     "text": [
      "Dimension {'i': '-1', 'l': '3', 'm': '1', 'name': 'voltage', 't': '-3'}\n",
      "Dimension {'name': 'time', 't': '1'}\n",
      "Dimension {'i': '1', 'name': 'current'}\n",
      "ComponentType {'name': 'hindmarshRose'}\n"
     ]
    }
   ],
   "source": [
    "for child in tree.getroot():\n",
    "    print(child.tag, child.attrib)"
   ],
   "metadata": {
    "collapsed": false,
    "pycharm": {
     "name": "#%%\n"
    }
   }
  },
  {
   "cell_type": "code",
   "execution_count": null,
   "outputs": [],
   "source": [],
   "metadata": {
    "collapsed": false,
    "pycharm": {
     "name": "#%%\n"
    }
   }
  }
 ],
 "metadata": {
  "kernelspec": {
   "display_name": "Python 3",
   "language": "python",
   "name": "python3"
  },
  "language_info": {
   "codemirror_mode": {
    "name": "ipython",
    "version": 2
   },
   "file_extension": ".py",
   "mimetype": "text/x-python",
   "name": "python",
   "nbconvert_exporter": "python",
   "pygments_lexer": "ipython2",
   "version": "2.7.6"
  }
 },
 "nbformat": 4,
 "nbformat_minor": 0
}