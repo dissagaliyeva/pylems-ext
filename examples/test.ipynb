{
 "cells": [
  {
   "cell_type": "code",
   "execution_count": 29,
   "metadata": {
    "collapsed": true
   },
   "outputs": [],
   "source": [
    "import lems.api as lems\n",
    "\n",
    "model = lems.Model()"
   ]
  },
  {
   "cell_type": "code",
   "execution_count": 30,
   "outputs": [],
   "source": [
    "model.import_from_file('../src/convert/templates/hindmarshRose.xml')"
   ],
   "metadata": {
    "collapsed": false,
    "pycharm": {
     "name": "#%%\n"
    }
   }
  },
  {
   "cell_type": "code",
   "execution_count": 31,
   "outputs": [
    {
     "ename": "KeyboardInterrupt",
     "evalue": "",
     "output_type": "error",
     "traceback": [
      "\u001B[1;31m---------------------------------------------------------------------------\u001B[0m",
      "\u001B[1;31mValueError\u001B[0m                                Traceback (most recent call last)",
      "File \u001B[1;32m~\\miniconda3\\lib\\site-packages\\lems\\model\\model.py:1004\u001B[0m, in \u001B[0;36mModel.get_numeric_value\u001B[1;34m(self, value_str, dimension)\u001B[0m\n\u001B[0;32m   1003\u001B[0m part \u001B[38;5;241m=\u001B[39m value_str[\u001B[38;5;241m0\u001B[39m:i]\n\u001B[1;32m-> 1004\u001B[0m nn \u001B[38;5;241m=\u001B[39m \u001B[38;5;28;43mfloat\u001B[39;49m\u001B[43m(\u001B[49m\u001B[43mpart\u001B[49m\u001B[43m)\u001B[49m\n\u001B[0;32m   1005\u001B[0m n \u001B[38;5;241m=\u001B[39m nn\n",
      "\u001B[1;31mValueError\u001B[0m: could not convert string to float: ''",
      "\nDuring handling of the above exception, another exception occurred:\n",
      "\u001B[1;31mKeyboardInterrupt\u001B[0m                         Traceback (most recent call last)",
      "Input \u001B[1;32mIn [31]\u001B[0m, in \u001B[0;36m<cell line: 1>\u001B[1;34m()\u001B[0m\n\u001B[1;32m----> 1\u001B[0m \u001B[43mmodel\u001B[49m\u001B[38;5;241;43m.\u001B[39;49m\u001B[43mresolve\u001B[49m\u001B[43m(\u001B[49m\u001B[43m)\u001B[49m\n",
      "File \u001B[1;32m~\\miniconda3\\lib\\site-packages\\lems\\model\\model.py:401\u001B[0m, in \u001B[0;36mModel.resolve\u001B[1;34m(self)\u001B[0m\n\u001B[0;32m    399\u001B[0m \u001B[38;5;28;01mfor\u001B[39;00m c \u001B[38;5;129;01min\u001B[39;00m ct\u001B[38;5;241m.\u001B[39mconstants:\n\u001B[0;32m    400\u001B[0m     c2 \u001B[38;5;241m=\u001B[39m c\u001B[38;5;241m.\u001B[39mcopy()\n\u001B[1;32m--> 401\u001B[0m     c2\u001B[38;5;241m.\u001B[39mnumeric_value \u001B[38;5;241m=\u001B[39m \u001B[43mmodel\u001B[49m\u001B[38;5;241;43m.\u001B[39;49m\u001B[43mget_numeric_value\u001B[49m\u001B[43m(\u001B[49m\u001B[43mc2\u001B[49m\u001B[38;5;241;43m.\u001B[39;49m\u001B[43mvalue\u001B[49m\u001B[43m,\u001B[49m\u001B[43m \u001B[49m\u001B[43mc2\u001B[49m\u001B[38;5;241;43m.\u001B[39;49m\u001B[43mdimension\u001B[49m\u001B[43m)\u001B[49m\n\u001B[0;32m    402\u001B[0m     model\u001B[38;5;241m.\u001B[39madd(c2)\n\u001B[0;32m    404\u001B[0m \u001B[38;5;28mself\u001B[39m\u001B[38;5;241m.\u001B[39mresolved_model \u001B[38;5;241m=\u001B[39m model\n",
      "File \u001B[1;32m~\\miniconda3\\lib\\site-packages\\lems\\model\\model.py:1007\u001B[0m, in \u001B[0;36mModel.get_numeric_value\u001B[1;34m(self, value_str, dimension)\u001B[0m\n\u001B[0;32m   1005\u001B[0m         n \u001B[38;5;241m=\u001B[39m nn\n\u001B[0;32m   1006\u001B[0m         s \u001B[38;5;241m=\u001B[39m value_str[i:]\n\u001B[1;32m-> 1007\u001B[0m     \u001B[38;5;28;01mexcept\u001B[39;00m \u001B[38;5;167;43;01mValueError\u001B[39;49;00m:\n\u001B[0;32m   1008\u001B[0m         i \u001B[38;5;241m=\u001B[39m i \u001B[38;5;241m-\u001B[39m \u001B[38;5;241m1\u001B[39m\n\u001B[0;32m   1010\u001B[0m number \u001B[38;5;241m=\u001B[39m n\n",
      "\u001B[1;31mKeyboardInterrupt\u001B[0m: "
     ]
    }
   ],
   "source": [
    "model.resolve()"
   ],
   "metadata": {
    "collapsed": false,
    "pycharm": {
     "name": "#%%\n"
    }
   }
  },
  {
   "cell_type": "code",
   "execution_count": 36,
   "outputs": [],
   "source": [
    "import xml.etree.ElementTree as ET\n",
    "\n",
    "tree = ET.parse('../src/convert/templates/hindmarshRose.xml')"
   ],
   "metadata": {
    "collapsed": false,
    "pycharm": {
     "name": "#%%\n"
    }
   }
  },
  {
   "cell_type": "code",
   "execution_count": 72,
   "outputs": [
    {
     "name": "stdout",
     "output_type": "stream",
     "text": [
      "Dimension {'i': '-1', 'l': '3', 'm': '1', 'name': 'voltage', 't': '-3'}\n",
      "['i', 'l', 'm', 'name', 't']\n",
      "-1\n",
      "[('i', '-1'), ('l', '3'), ('m', '1'), ('name', 'voltage'), ('t', '-3')]\n",
      "Dimension {'name': 'time', 't': '1'}\n",
      "['name', 't']\n",
      "time\n",
      "[('name', 'time'), ('t', '1')]\n",
      "Dimension {'i': '1', 'name': 'current'}\n",
      "['i', 'name']\n",
      "1\n",
      "[('i', '1'), ('name', 'current')]\n",
      "ComponentType {'name': 'hindmarshRose'}\n",
      "['name']\n",
      "hindmarshRose\n",
      "[('name', 'hindmarshRose')]\n"
     ]
    },
    {
     "ename": "AttributeError",
     "evalue": "'xml.etree.ElementTree.Element' object has no attribute 'count'",
     "output_type": "error",
     "traceback": [
      "\u001B[1;31m---------------------------------------------------------------------------\u001B[0m",
      "\u001B[1;31mAttributeError\u001B[0m                            Traceback (most recent call last)",
      "Input \u001B[1;32mIn [72]\u001B[0m, in \u001B[0;36m<cell line: 1>\u001B[1;34m()\u001B[0m\n\u001B[0;32m      6\u001B[0m \u001B[38;5;28mprint\u001B[39m(child\u001B[38;5;241m.\u001B[39mitems())\n\u001B[0;32m      8\u001B[0m \u001B[38;5;28;01mif\u001B[39;00m child\u001B[38;5;241m.\u001B[39mattrib[keys[\u001B[38;5;241m0\u001B[39m]] \u001B[38;5;241m==\u001B[39m \u001B[38;5;124m'\u001B[39m\u001B[38;5;124mhindmarshRose\u001B[39m\u001B[38;5;124m'\u001B[39m:\n\u001B[1;32m----> 9\u001B[0m     \u001B[38;5;28mprint\u001B[39m(\u001B[43mchild\u001B[49m\u001B[38;5;241;43m.\u001B[39;49m\u001B[43mcount\u001B[49m())\n",
      "\u001B[1;31mAttributeError\u001B[0m: 'xml.etree.ElementTree.Element' object has no attribute 'count'"
     ]
    }
   ],
   "source": [
    "for child in tree.getroot():\n",
    "    keys = child.keys()\n",
    "    print(child.tag, child.attrib)\n",
    "    print(child.keys())\n",
    "    print(child.attrib[keys[0]])\n",
    "    print(child.items())\n",
    "\n",
    "    if child.attrib[keys[0]] == 'hindmarshRose':\n",
    "        print(child.)"
   ],
   "metadata": {
    "collapsed": false,
    "pycharm": {
     "name": "#%%\n"
    }
   }
  },
  {
   "cell_type": "code",
   "execution_count": 65,
   "outputs": [
    {
     "data": {
      "text/plain": "<generator object prepare_child.<locals>.select at 0x0000022229A2F580>"
     },
     "execution_count": 65,
     "metadata": {},
     "output_type": "execute_result"
    }
   ],
   "source": [
    "tree.getroot().iterfind('ComponentType')"
   ],
   "metadata": {
    "collapsed": false,
    "pycharm": {
     "name": "#%%\n"
    }
   }
  },
  {
   "cell_type": "code",
   "execution_count": 80,
   "outputs": [
    {
     "name": "stdout",
     "output_type": "stream",
     "text": [
      "b'<Lems>\\n    <Dimension i=\"-1\" l=\"3\" m=\"1\" name=\"voltage\" t=\"-3\" />\\n    <Dimension name=\"time\" t=\"1\" />\\n    <Dimension i=\"1\" name=\"current\" />\\n    <ComponentType name=\"hindmarshRose\">\\n        <Parameter dimension=\"none\" name=\"a1\" />\\n        <Parameter dimension=\"none\" name=\"a2\" />\\n        <Parameter dimension=\"none\" name=\"a3\" />\\n        <Parameter dimension=\"none\" name=\"b1\" />\\n        <Parameter dimension=\"none\" name=\"b2\" />\\n        <Parameter dimension=\"none\" name=\"b3\" />\\n        <Parameter dimension=\"none\" name=\"c1\" />\\n        <Parameter dimension=\"none\" name=\"c2\" />\\n        <Parameter dimension=\"none\" name=\"c3\" />\\n        <Parameter dimension=\"none\" name=\"d1\" />\\n        <Parameter dimension=\"none\" name=\"d2\" />\\n        <Parameter dimension=\"none\" name=\"d3\" />\\n        <Parameter dimension=\"none\" name=\"e1\" />\\n        <Parameter dimension=\"none\" name=\"e2\" />\\n        <Parameter dimension=\"none\" name=\"e3\" />\\n        <Parameter dimension=\"none\" name=\"f1\" />\\n        <Parameter dimension=\"none\" name=\"f2\" />\\n        <Parameter dimension=\"none\" name=\"f3\" />\\n        <Parameter dimension=\"none\" name=\"IE1\" />\\n        <Parameter dimension=\"none\" name=\"IE2\" />\\n        <Parameter dimension=\"none\" name=\"IE3\" />\\n        <Parameter dimension=\"none\" name=\"II1\" />\\n        <Parameter dimension=\"none\" name=\"II2\" />\\n        <Parameter dimension=\"none\" name=\"II3\" />\\n        <Parameter dimension=\"none\" name=\"r\" />\\n        <Parameter dimension=\"none\" name=\"s\" />\\n        <Parameter dimension=\"none\" name=\"m1\" />\\n        <Parameter dimension=\"none\" name=\"m2\" />\\n        <Parameter dimension=\"none\" name=\"m3\" />\\n        <Parameter dimension=\"none\" name=\"n1\" />\\n        <Parameter dimension=\"none\" name=\"n2\" />\\n        <Parameter dimension=\"none\" name=\"n3\" />\\n        <Parameter dimension=\"none\" name=\"K11\" />\\n        <Parameter dimension=\"none\" name=\"K12\" />\\n        <Parameter dimension=\"none\" name=\"K21\" />\\n        <Parameter dimension=\"none\" name=\"h1\" />\\n        <Parameter dimension=\"none\" name=\"h2\" />\\n        <Parameter dimension=\"none\" name=\"h3\" />\\n        <Parameter dimension=\"none\" name=\"p1\" />\\n        <Parameter dimension=\"none\" name=\"p2\" />\\n        <Parameter dimension=\"none\" name=\"p3\" />\\n        <Parameter dimension=\"none\" name=\"A11\" />\\n        <Parameter dimension=\"none\" name=\"A12\" />\\n        <Parameter dimension=\"none\" name=\"A13\" />\\n        <Parameter dimension=\"none\" name=\"A21\" />\\n        <Parameter dimension=\"none\" name=\"A22\" />\\n        <Parameter dimension=\"none\" name=\"A23\" />\\n        <Parameter dimension=\"none\" name=\"A31\" />\\n        <Parameter dimension=\"none\" name=\"A32\" />\\n        <Parameter dimension=\"none\" name=\"A33\" />\\n        <Parameter dimension=\"none\" name=\"B11\" />\\n        <Parameter dimension=\"none\" name=\"B12\" />\\n        <Parameter dimension=\"none\" name=\"B13\" />\\n        <Parameter dimension=\"none\" name=\"B21\" />\\n        <Parameter dimension=\"none\" name=\"B22\" />\\n        <Parameter dimension=\"none\" name=\"B23\" />\\n        <Parameter dimension=\"none\" name=\"B31\" />\\n        <Parameter dimension=\"none\" name=\"B32\" />\\n        <Parameter dimension=\"none\" name=\"B33\" />\\n        <Parameter dimension=\"none\" name=\"C11\" />\\n        <Parameter dimension=\"none\" name=\"C12\" />\\n        <Parameter dimension=\"none\" name=\"C13\" />\\n        <Parameter dimension=\"none\" name=\"C21\" />\\n        <Parameter dimension=\"none\" name=\"C22\" />\\n        <Parameter dimension=\"none\" name=\"C23\" />\\n        <Parameter dimension=\"none\" name=\"C31\" />\\n        <Parameter dimension=\"none\" name=\"C32\" />\\n        <Parameter dimension=\"none\" name=\"C33\" />\\n        <Constant dimension=\"time\" name=\"SEC\" value=\"S\" />\\n        <Exposure dimension=\"none\" name=\"zeta1\" />\\n        <Exposure dimension=\"none\" name=\"zeta2\" />\\n        <Exposure dimension=\"none\" name=\"zeta3\" />\\n        <Exposure dimension=\"none\" name=\"eta1\" />\\n        <Exposure dimension=\"none\" name=\"eta2\" />\\n        <Exposure dimension=\"none\" name=\"eta3\" />\\n        <Exposure dimension=\"none\" name=\"tau1\" />\\n        <Exposure dimension=\"none\" name=\"tau2\" />\\n        <Exposure dimension=\"none\" name=\"tau3\" />\\n        <Exposure dimension=\"none\" name=\"alpha1\" />\\n        <Exposure dimension=\"none\" name=\"alpha2\" />\\n        <Exposure dimension=\"none\" name=\"alpha3\" />\\n        <Exposure dimension=\"none\" name=\"beta1\" />\\n        <Exposure dimension=\"none\" name=\"beta2\" />\\n        <Exposure dimension=\"none\" name=\"beta3\" />\\n        <Exposure dimension=\"none\" name=\"gamma1\" />\\n        <Exposure dimension=\"none\" name=\"gamma2\" />\\n        <Exposure dimension=\"none\" name=\"gamma3\" />\\n        <Dynamics>\\n          <StateVariable dimension=\"none\" exposure=\"zeta1\" name=\"zeta1\" />\\n          <StateVariable dimension=\"none\" exposure=\"zeta2\" name=\"zeta2\" />\\n          <StateVariable dimension=\"none\" exposure=\"zeta3\" name=\"zeta3\" />\\n          <StateVariable dimension=\"none\" exposure=\"eta1\" name=\"eta1\" />\\n          <StateVariable dimension=\"none\" exposure=\"eta2\" name=\"eta2\" />\\n          <StateVariable dimension=\"none\" exposure=\"eta3\" name=\"eta3\" />\\n          <StateVariable dimension=\"none\" exposure=\"tau1\" name=\"tau1\" />\\n          <StateVariable dimension=\"none\" exposure=\"tau2\" name=\"tau2\" />\\n          <StateVariable dimension=\"none\" exposure=\"tau3\" name=\"tau3\" />\\n          <StateVariable dimension=\"none\" exposure=\"alpha1\" name=\"alpha1\" />\\n          <StateVariable dimension=\"none\" exposure=\"alpha2\" name=\"alpha2\" />\\n          <StateVariable dimension=\"none\" exposure=\"alpha3\" name=\"alpha3\" />\\n          <StateVariable dimension=\"none\" exposure=\"beta1\" name=\"beta1\" />\\n          <StateVariable dimension=\"none\" exposure=\"beta2\" name=\"beta2\" />\\n          <StateVariable dimension=\"none\" exposure=\"beta3\" name=\"beta3\" />\\n          <StateVariable dimension=\"none\" exposure=\"gamma1\" name=\"gamma1\" />\\n          <StateVariable dimension=\"none\" exposure=\"gamma2\" name=\"gamma2\" />\\n          <StateVariable dimension=\"none\" exposure=\"gamma3\" name=\"gamma3\" />\\n          <DerivedVariable name=\"P1\" value=\"eta1 - a1 * zeta1^3 + b1 * zeta1^2 + K11 * ( A11 * zeta1 + A12 * zeta2 + A13 * zeta3 - zeta1 ) - K12 * (B11 * alpha1 + B12 * alpha2 + B13 * alpha3- zeta1) + IE1\" />\\n          <DerivedVariable name=\"P2\" value=\"eta2 - a2 * zeta2^3 + b2 * zeta2^2 + K11 * ( A21 * zeta1 + A22 * zeta2 + A23 * zeta3 - zeta2 ) - K12 * (B11 * alpha1 + B12 * alpha2 + B13 * alpha3- zeta2) + IE2\" />\\n          <DerivedVariable name=\"P3\" value=\"eta3 - a3 * zeta3^3 + b3 * zeta3^2 + K11 * ( A31 * zeta1 + A32 * zeta2 + A33 * zeta3 - zeta3 ) - K12 * (B11 * alpha1 + B12 * alpha2 + B13 * alpha3- zeta3) + IE3\" />\\n          <DerivedVariable name=\"Q1\" value=\"c1 - d1 * zeta1^2 -eta1\" />\\n          <DerivedVariable name=\"Q2\" value=\"c2 - d2 * zeta2^2 -eta2\" />\\n          <DerivedVariable name=\"Q3\" value=\"c3 - d3 * zeta3^2 -eta3\" />\\n          <DerivedVariable name=\"R1\" value=\"r * S * zeta1 - r * tau1 - m1\" />\\n          <DerivedVariable name=\"R2\" value=\"r * S * zeta2 - r * tau2 - m2\" />\\n          <DerivedVariable name=\"R3\" value=\"r * S * zeta3 - r * tau3 - m3\" />\\n          <DerivedVariable name=\"PI1\" value=\"beta1 - e1 * alpha1^3 + f1 * alpha1^2 + K21 * ( C11 * zeta1 + C12 * zeta2 + C13 * zeta3 - alpha1 ) + II1\" />\\n          <DerivedVariable name=\"PI2\" value=\"beta2 - e2 * alpha2^3 + f2 * alpha2^2 + K21 * ( C21 * zeta1 + C22 * zeta2 + C23 * zeta3 - alpha2 ) + II2\" />\\n          <DerivedVariable name=\"PI3\" value=\"beta3 - e3 * alpha3^3 + f3 * alpha3^2 + K21 * ( C31 * zeta1 + C32 * zeta2 + C33 * zeta3 - alpha3 ) + II3\" />\\n          <DerivedVariable name=\"QI1\" value=\"h1 - p1 * alpha1^2 - beta1\" />\\n          <DerivedVariable name=\"QI2\" value=\"h2 - p2 * alpha2^2 - beta2\" />\\n          <DerivedVariable name=\"QI3\" value=\"h3 - p3 * alpha3^2 - beta3\" />\\n          <DerivedVariable name=\"RI1\" value=\"r * S * alpha1 - r * gamma1 - n1\" />\\n          <DerivedVariable name=\"RI2\" value=\"r * S * alpha2 - r * gamma2 - n2\" />\\n          <DerivedVariable name=\"RI3\" value=\"r * S * alpha3 - r * gamma3 - n3\" />\\n          <TimeDerivative value=\"(P1-tau1) / SEC\" variable=\"zeta1\" />\\n          <TimeDerivative value=\"(P2-tau2) / SEC\" variable=\"zeta2\" />\\n          <TimeDerivative value=\"(P3-tau3) / SEC\" variable=\"zeta3\" />\\n          <TimeDerivative value=\"Q1/ SEC\" variable=\"eta1\" />\\n          <TimeDerivative value=\"Q2/ SEC\" variable=\"eta2\" />\\n          <TimeDerivative value=\"Q3/ SEC\" variable=\"eta3\" />\\n          <TimeDerivative value=\"R1 / SEC\" variable=\"tau1\" />\\n          <TimeDerivative value=\"R2 / SEC\" variable=\"tau2\" />\\n          <TimeDerivative value=\"R3 / SEC\" variable=\"tau3\" />\\n          <TimeDerivative value=\"(PI1-eta1) / SEC\" variable=\"alpha1\" />\\n          <TimeDerivative value=\"(PI2-eta2) / SEC\" variable=\"alpha2\" />\\n          <TimeDerivative value=\"(PI3-eta3) / SEC\" variable=\"alpha3\" />\\n          <TimeDerivative value=\"QI1/ SEC\" variable=\"beta1\" />\\n          <TimeDerivative value=\"QI2/ SEC\" variable=\"beta2\" />\\n          <TimeDerivative value=\"QI3/ SEC\" variable=\"beta3\" />\\n          <TimeDerivative value=\"RI1 / SEC\" variable=\"gamma1\" />\\n          <TimeDerivative value=\"RI2 / SEC\" variable=\"gamma2\" />\\n          <TimeDerivative value=\"RI3 / SEC\" variable=\"gamma3\" />\\n        </Dynamics>\\n      </ComponentType>\\n</Lems>'\n"
     ]
    }
   ],
   "source": [
    "import glob\n",
    "\n",
    "\n",
    "def newRunRun():\n",
    "    # xml_files = glob.glob('../src/convert/templates/hindmarshRose.xml')\n",
    "    node = None\n",
    "    for xmlFile in ['../src/convert/templates/hindmarshRose.xml']:\n",
    "        tree = ET.parse(xmlFile)\n",
    "        root = tree.getroot()\n",
    "        if node is None:\n",
    "            node = root\n",
    "        else:\n",
    "            elements = root.find(\"./ComponentType\")\n",
    "            for element in elements._children:\n",
    "                node[1].append(element)\n",
    "    print(ET.tostring(node))\n",
    "\n",
    "\n",
    "newRunRun()"
   ],
   "metadata": {
    "collapsed": false,
    "pycharm": {
     "name": "#%%\n"
    }
   }
  },
  {
   "cell_type": "code",
   "execution_count": null,
   "outputs": [],
   "source": [],
   "metadata": {
    "collapsed": false,
    "pycharm": {
     "name": "#%%\n"
    }
   }
  }
 ],
 "metadata": {
  "kernelspec": {
   "display_name": "Python 3",
   "language": "python",
   "name": "python3"
  },
  "language_info": {
   "codemirror_mode": {
    "name": "ipython",
    "version": 2
   },
   "file_extension": ".py",
   "mimetype": "text/x-python",
   "name": "python",
   "nbconvert_exporter": "python",
   "pygments_lexer": "ipython2",
   "version": "2.7.6"
  }
 },
 "nbformat": 4,
 "nbformat_minor": 0
}